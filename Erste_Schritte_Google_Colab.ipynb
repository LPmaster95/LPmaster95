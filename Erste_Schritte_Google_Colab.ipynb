{
  "nbformat": 4,
  "nbformat_minor": 0,
  "metadata": {
    "colab": {
      "provenance": [],
      "collapsed_sections": [],
      "toc_visible": true,
      "authorship_tag": "ABX9TyNzCNgA72ndRkw8GFMMc7Vl",
      "include_colab_link": true
    },
    "kernelspec": {
      "name": "python3",
      "display_name": "Python 3"
    },
    "language_info": {
      "name": "python"
    }
  },
  "cells": [
    {
      "cell_type": "markdown",
      "metadata": {
        "id": "view-in-github",
        "colab_type": "text"
      },
      "source": [
        "<a href=\"https://colab.research.google.com/github/LPmaster95/LPmaster95/blob/main/Erste_Schritte_Google_Colab.ipynb\" target=\"_parent\"><img src=\"https://colab.research.google.com/assets/colab-badge.svg\" alt=\"Open In Colab\"/></a>"
      ]
    },
    {
      "cell_type": "markdown",
      "source": [
        "# Neuer Abschnitt"
      ],
      "metadata": {
        "id": "IsGXwxX_WsEG"
      }
    },
    {
      "cell_type": "markdown",
      "source": [
        "Erste Versuche mit Google Colab"
      ],
      "metadata": {
        "id": "fpCwUgCuWwU6"
      }
    },
    {
      "cell_type": "code",
      "source": [],
      "metadata": {
        "id": "LWf4NqoFWz3T"
      },
      "execution_count": null,
      "outputs": []
    },
    {
      "cell_type": "markdown",
      "source": [
        "# Neuer Abschnitt"
      ],
      "metadata": {
        "id": "wN-33vXtWvCK"
      }
    },
    {
      "cell_type": "markdown",
      "source": [
        "Nähere Versuche mit Google Colab zu Python"
      ],
      "metadata": {
        "id": "O9ro8wjSW0dR"
      }
    },
    {
      "cell_type": "code",
      "source": [],
      "metadata": {
        "id": "NBxp6WoeW6Ux"
      },
      "execution_count": null,
      "outputs": []
    },
    {
      "cell_type": "markdown",
      "source": [
        "# Neuer Abschnitt"
      ],
      "metadata": {
        "id": "yftnM3AlWvWr"
      }
    },
    {
      "cell_type": "markdown",
      "source": [
        "Erste ML Versuche"
      ],
      "metadata": {
        "id": "MAs0TP-rW4co"
      }
    },
    {
      "cell_type": "code",
      "source": [],
      "metadata": {
        "id": "0pCsijwsW6wq"
      },
      "execution_count": null,
      "outputs": []
    }
  ]
}